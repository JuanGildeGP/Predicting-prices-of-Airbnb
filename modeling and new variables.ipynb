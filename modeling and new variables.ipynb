{
 "cells": [
  {
   "cell_type": "markdown",
   "metadata": {},
   "source": [
    "# Final Project All Groups\n",
    "### AI-MACHINE LEARNING FOUNDATIONS         2020"
   ]
  },
  {
   "cell_type": "markdown",
   "metadata": {},
   "source": [
    "![title](img/street.png)"
   ]
  },
  {
   "cell_type": "markdown",
   "metadata": {},
   "source": [
    "## Short Term Accommodation\n",
    "\n",
    "Technology and the internet are changing the world and our concepts of how businesses run. Amazon is the biggest retail company that doesn´t have any products, just as Airbnb is the biggest hotel without any rooms.\n",
    "\n",
    "You are considering creating a startup where you would advise homeowners about setting up their real estate for short term rental.\n",
    "You need to create a 15 min (approx) presentation to your potential investors where you will show them how machine learning using __CRISP_DM methodology__, can be used to predict variables. The choice of dependent variable is yours!\n",
    "\n",
    "The data available to you is public data from Inside Airbnb however if you want to use additional data you may do so."
   ]
  },
  {
   "cell_type": "markdown",
   "metadata": {},
   "source": [
    "http://insideairbnb.com/madrid/?neighbourhood=&filterEntireHomes=false&filterHighlyAvailable=false&filterRecentReviews=false&filterMultiListings=false"
   ]
  },
  {
   "cell_type": "markdown",
   "metadata": {},
   "source": [
    "Description\n",
    "*  Madrid\tlistings.csv.gz\tDetailed Listings data for Madrid\n",
    "*  Madrid\tcalendar.csv.gz\tDetailed Calendar Data for listings in Madrid\n",
    "*  Madrid\treviews.csv.gz\tDetailed Review Data for listings in Madrid\n",
    "*  Madrid\tlistings.csv\tSummary information and metrics for listings in Madrid (good for visualisations).\n",
    "*  Madrid\treviews.csv\tSummary Review data and Listing ID (to facilitate time based analytics and visualisations linked to a listing).\n",
    "*\tMadrid\tneighbourhoods.csv\tNeighbourhood list for geo filter. Sourced from city or open source GIS files.\n",
    "*\tMadrid\tneighbourhoods.geojson\tGeoJSON file of neighbourhoods of the city."
   ]
  },
  {
   "cell_type": "markdown",
   "metadata": {},
   "source": [
    "![title](img/room.png)"
   ]
  },
  {
   "cell_type": "code",
   "execution_count": 1,
   "metadata": {
    "scrolled": true
   },
   "outputs": [
    {
     "ename": "NameError",
     "evalue": "name 'pd' is not defined",
     "output_type": "error",
     "traceback": [
      "\u001b[1;31m---------------------------------------------------------------------------\u001b[0m",
      "\u001b[1;31mNameError\u001b[0m                                 Traceback (most recent call last)",
      "\u001b[1;32m<ipython-input-1-336ad653136e>\u001b[0m in \u001b[0;36m<module>\u001b[1;34m\u001b[0m\n\u001b[1;32m----> 1\u001b[1;33m \u001b[0mcalendar\u001b[0m \u001b[1;33m=\u001b[0m \u001b[0mpd\u001b[0m\u001b[1;33m.\u001b[0m\u001b[0mread_csv\u001b[0m\u001b[1;33m(\u001b[0m\u001b[1;34m\"calendar.csv\"\u001b[0m\u001b[1;33m)\u001b[0m\u001b[1;33m\u001b[0m\u001b[1;33m\u001b[0m\u001b[0m\n\u001b[0m\u001b[0;32m      2\u001b[0m \u001b[0mcalendar\u001b[0m\u001b[1;33m.\u001b[0m\u001b[0mhead\u001b[0m\u001b[1;33m(\u001b[0m\u001b[1;33m)\u001b[0m\u001b[1;33m\u001b[0m\u001b[1;33m\u001b[0m\u001b[0m\n",
      "\u001b[1;31mNameError\u001b[0m: name 'pd' is not defined"
     ]
    }
   ],
   "source": [
    "calendar = pd.read_csv(\"calendar.csv\") \n",
    "calendar.head()"
   ]
  },
  {
   "cell_type": "code",
   "execution_count": 1,
   "metadata": {},
   "outputs": [],
   "source": [
    "import pandas as pd \n",
    "import numpy as np"
   ]
  },
  {
   "cell_type": "code",
   "execution_count": 2,
   "metadata": {
    "scrolled": false
   },
   "outputs": [
    {
     "data": {
      "text/html": [
       "<div>\n",
       "<style scoped>\n",
       "    .dataframe tbody tr th:only-of-type {\n",
       "        vertical-align: middle;\n",
       "    }\n",
       "\n",
       "    .dataframe tbody tr th {\n",
       "        vertical-align: top;\n",
       "    }\n",
       "\n",
       "    .dataframe thead th {\n",
       "        text-align: right;\n",
       "    }\n",
       "</style>\n",
       "<table border=\"1\" class=\"dataframe\">\n",
       "  <thead>\n",
       "    <tr style=\"text-align: right;\">\n",
       "      <th></th>\n",
       "      <th>id</th>\n",
       "      <th>name</th>\n",
       "      <th>host_id</th>\n",
       "      <th>host_name</th>\n",
       "      <th>neighbourhood_group</th>\n",
       "      <th>neighbourhood</th>\n",
       "      <th>latitude</th>\n",
       "      <th>longitude</th>\n",
       "      <th>room_type</th>\n",
       "      <th>price</th>\n",
       "      <th>minimum_nights</th>\n",
       "      <th>number_of_reviews</th>\n",
       "      <th>last_review</th>\n",
       "      <th>reviews_per_month</th>\n",
       "      <th>calculated_host_listings_count</th>\n",
       "      <th>availability_365</th>\n",
       "    </tr>\n",
       "  </thead>\n",
       "  <tbody>\n",
       "    <tr>\n",
       "      <th>0</th>\n",
       "      <td>6369</td>\n",
       "      <td>Rooftop terrace room with ensuite bathroom, Airc.</td>\n",
       "      <td>13660</td>\n",
       "      <td>Simon</td>\n",
       "      <td>Chamartín</td>\n",
       "      <td>Hispanoamérica</td>\n",
       "      <td>40.45628</td>\n",
       "      <td>-3.67763</td>\n",
       "      <td>Private room</td>\n",
       "      <td>70</td>\n",
       "      <td>3</td>\n",
       "      <td>64</td>\n",
       "      <td>2019-05-14</td>\n",
       "      <td>0.56</td>\n",
       "      <td>1</td>\n",
       "      <td>86</td>\n",
       "    </tr>\n",
       "    <tr>\n",
       "      <th>1</th>\n",
       "      <td>20185</td>\n",
       "      <td>CENTRAL MADRID.UP TO 10</td>\n",
       "      <td>76357</td>\n",
       "      <td>Francisco</td>\n",
       "      <td>Centro</td>\n",
       "      <td>Embajadores</td>\n",
       "      <td>40.41043</td>\n",
       "      <td>-3.70156</td>\n",
       "      <td>Entire home/apt</td>\n",
       "      <td>82</td>\n",
       "      <td>1</td>\n",
       "      <td>9</td>\n",
       "      <td>2011-09-13</td>\n",
       "      <td>0.08</td>\n",
       "      <td>8</td>\n",
       "      <td>364</td>\n",
       "    </tr>\n",
       "    <tr>\n",
       "      <th>2</th>\n",
       "      <td>21853</td>\n",
       "      <td>Bright and airy room</td>\n",
       "      <td>83531</td>\n",
       "      <td>Abdel</td>\n",
       "      <td>Latina</td>\n",
       "      <td>Cármenes</td>\n",
       "      <td>40.40341</td>\n",
       "      <td>-3.74084</td>\n",
       "      <td>Private room</td>\n",
       "      <td>17</td>\n",
       "      <td>4</td>\n",
       "      <td>33</td>\n",
       "      <td>2018-07-15</td>\n",
       "      <td>0.57</td>\n",
       "      <td>2</td>\n",
       "      <td>0</td>\n",
       "    </tr>\n",
       "    <tr>\n",
       "      <th>3</th>\n",
       "      <td>23148</td>\n",
       "      <td>MODERN.AMAZING.COLOURFUL.APARTMENT</td>\n",
       "      <td>76357</td>\n",
       "      <td>Francisco</td>\n",
       "      <td>Centro</td>\n",
       "      <td>Justicia</td>\n",
       "      <td>40.42174</td>\n",
       "      <td>-3.69945</td>\n",
       "      <td>Entire home/apt</td>\n",
       "      <td>76</td>\n",
       "      <td>1</td>\n",
       "      <td>17</td>\n",
       "      <td>2012-01-19</td>\n",
       "      <td>0.15</td>\n",
       "      <td>8</td>\n",
       "      <td>365</td>\n",
       "    </tr>\n",
       "    <tr>\n",
       "      <th>4</th>\n",
       "      <td>24805</td>\n",
       "      <td>Gran Via Studio Madrid</td>\n",
       "      <td>101471</td>\n",
       "      <td>Iraido</td>\n",
       "      <td>Centro</td>\n",
       "      <td>Universidad</td>\n",
       "      <td>40.42202</td>\n",
       "      <td>-3.70395</td>\n",
       "      <td>Entire home/apt</td>\n",
       "      <td>85</td>\n",
       "      <td>5</td>\n",
       "      <td>2</td>\n",
       "      <td>2017-07-03</td>\n",
       "      <td>0.04</td>\n",
       "      <td>1</td>\n",
       "      <td>358</td>\n",
       "    </tr>\n",
       "  </tbody>\n",
       "</table>\n",
       "</div>"
      ],
      "text/plain": [
       "      id                                               name  host_id  \\\n",
       "0   6369  Rooftop terrace room with ensuite bathroom, Airc.    13660   \n",
       "1  20185                            CENTRAL MADRID.UP TO 10    76357   \n",
       "2  21853                               Bright and airy room    83531   \n",
       "3  23148                 MODERN.AMAZING.COLOURFUL.APARTMENT    76357   \n",
       "4  24805                             Gran Via Studio Madrid   101471   \n",
       "\n",
       "   host_name neighbourhood_group   neighbourhood  latitude  longitude  \\\n",
       "0      Simon           Chamartín  Hispanoamérica  40.45628   -3.67763   \n",
       "1  Francisco              Centro     Embajadores  40.41043   -3.70156   \n",
       "2      Abdel              Latina        Cármenes  40.40341   -3.74084   \n",
       "3  Francisco              Centro        Justicia  40.42174   -3.69945   \n",
       "4     Iraido              Centro     Universidad  40.42202   -3.70395   \n",
       "\n",
       "         room_type  price  minimum_nights  number_of_reviews last_review  \\\n",
       "0     Private room     70               3                 64  2019-05-14   \n",
       "1  Entire home/apt     82               1                  9  2011-09-13   \n",
       "2     Private room     17               4                 33  2018-07-15   \n",
       "3  Entire home/apt     76               1                 17  2012-01-19   \n",
       "4  Entire home/apt     85               5                  2  2017-07-03   \n",
       "\n",
       "   reviews_per_month  calculated_host_listings_count  availability_365  \n",
       "0               0.56                               1                86  \n",
       "1               0.08                               8               364  \n",
       "2               0.57                               2                 0  \n",
       "3               0.15                               8               365  \n",
       "4               0.04                               1               358  "
      ]
     },
     "execution_count": 2,
     "metadata": {},
     "output_type": "execute_result"
    }
   ],
   "source": [
    "#Upload the data into a pandas dataframe \n",
    "df = pd.read_csv(\"Madrid_listings.csv\") \n",
    "df.head()"
   ]
  },
  {
   "cell_type": "code",
   "execution_count": 3,
   "metadata": {},
   "outputs": [
    {
     "data": {
      "text/html": [
       "<div>\n",
       "<style scoped>\n",
       "    .dataframe tbody tr th:only-of-type {\n",
       "        vertical-align: middle;\n",
       "    }\n",
       "\n",
       "    .dataframe tbody tr th {\n",
       "        vertical-align: top;\n",
       "    }\n",
       "\n",
       "    .dataframe thead th {\n",
       "        text-align: right;\n",
       "    }\n",
       "</style>\n",
       "<table border=\"1\" class=\"dataframe\">\n",
       "  <thead>\n",
       "    <tr style=\"text-align: right;\">\n",
       "      <th></th>\n",
       "      <th>id</th>\n",
       "      <th>name</th>\n",
       "      <th>host_id</th>\n",
       "      <th>host_name</th>\n",
       "      <th>neighbourhood_group</th>\n",
       "      <th>neighbourhood</th>\n",
       "      <th>latitude</th>\n",
       "      <th>longitude</th>\n",
       "      <th>room_type</th>\n",
       "      <th>price</th>\n",
       "      <th>minimum_nights</th>\n",
       "      <th>number_of_reviews</th>\n",
       "      <th>last_review</th>\n",
       "      <th>reviews_per_month</th>\n",
       "      <th>calculated_host_listings_count</th>\n",
       "      <th>availability_365</th>\n",
       "    </tr>\n",
       "  </thead>\n",
       "  <tbody>\n",
       "    <tr>\n",
       "      <th>0</th>\n",
       "      <td>6369</td>\n",
       "      <td>Rooftop terrace room with ensuite bathroom, Airc.</td>\n",
       "      <td>13660</td>\n",
       "      <td>Simon</td>\n",
       "      <td>Chamartín</td>\n",
       "      <td>Hispanoamérica</td>\n",
       "      <td>40.45628</td>\n",
       "      <td>-3.67763</td>\n",
       "      <td>Private room</td>\n",
       "      <td>70</td>\n",
       "      <td>3</td>\n",
       "      <td>64</td>\n",
       "      <td>2019-05-14</td>\n",
       "      <td>0.56</td>\n",
       "      <td>1</td>\n",
       "      <td>86</td>\n",
       "    </tr>\n",
       "    <tr>\n",
       "      <th>1</th>\n",
       "      <td>20185</td>\n",
       "      <td>CENTRAL MADRID.UP TO 10</td>\n",
       "      <td>76357</td>\n",
       "      <td>Francisco</td>\n",
       "      <td>Centro</td>\n",
       "      <td>Embajadores</td>\n",
       "      <td>40.41043</td>\n",
       "      <td>-3.70156</td>\n",
       "      <td>Entire home/apt</td>\n",
       "      <td>82</td>\n",
       "      <td>1</td>\n",
       "      <td>9</td>\n",
       "      <td>2011-09-13</td>\n",
       "      <td>0.08</td>\n",
       "      <td>8</td>\n",
       "      <td>364</td>\n",
       "    </tr>\n",
       "    <tr>\n",
       "      <th>2</th>\n",
       "      <td>21853</td>\n",
       "      <td>Bright and airy room</td>\n",
       "      <td>83531</td>\n",
       "      <td>Abdel</td>\n",
       "      <td>Latina</td>\n",
       "      <td>Cármenes</td>\n",
       "      <td>40.40341</td>\n",
       "      <td>-3.74084</td>\n",
       "      <td>Private room</td>\n",
       "      <td>17</td>\n",
       "      <td>4</td>\n",
       "      <td>33</td>\n",
       "      <td>2018-07-15</td>\n",
       "      <td>0.57</td>\n",
       "      <td>2</td>\n",
       "      <td>0</td>\n",
       "    </tr>\n",
       "    <tr>\n",
       "      <th>3</th>\n",
       "      <td>23148</td>\n",
       "      <td>MODERN.AMAZING.COLOURFUL.APARTMENT</td>\n",
       "      <td>76357</td>\n",
       "      <td>Francisco</td>\n",
       "      <td>Centro</td>\n",
       "      <td>Justicia</td>\n",
       "      <td>40.42174</td>\n",
       "      <td>-3.69945</td>\n",
       "      <td>Entire home/apt</td>\n",
       "      <td>76</td>\n",
       "      <td>1</td>\n",
       "      <td>17</td>\n",
       "      <td>2012-01-19</td>\n",
       "      <td>0.15</td>\n",
       "      <td>8</td>\n",
       "      <td>365</td>\n",
       "    </tr>\n",
       "    <tr>\n",
       "      <th>4</th>\n",
       "      <td>24805</td>\n",
       "      <td>Gran Via Studio Madrid</td>\n",
       "      <td>101471</td>\n",
       "      <td>Iraido</td>\n",
       "      <td>Centro</td>\n",
       "      <td>Universidad</td>\n",
       "      <td>40.42202</td>\n",
       "      <td>-3.70395</td>\n",
       "      <td>Entire home/apt</td>\n",
       "      <td>85</td>\n",
       "      <td>5</td>\n",
       "      <td>2</td>\n",
       "      <td>2017-07-03</td>\n",
       "      <td>0.04</td>\n",
       "      <td>1</td>\n",
       "      <td>358</td>\n",
       "    </tr>\n",
       "    <tr>\n",
       "      <th>...</th>\n",
       "      <td>...</td>\n",
       "      <td>...</td>\n",
       "      <td>...</td>\n",
       "      <td>...</td>\n",
       "      <td>...</td>\n",
       "      <td>...</td>\n",
       "      <td>...</td>\n",
       "      <td>...</td>\n",
       "      <td>...</td>\n",
       "      <td>...</td>\n",
       "      <td>...</td>\n",
       "      <td>...</td>\n",
       "      <td>...</td>\n",
       "      <td>...</td>\n",
       "      <td>...</td>\n",
       "      <td>...</td>\n",
       "    </tr>\n",
       "    <tr>\n",
       "      <th>21434</th>\n",
       "      <td>36576704</td>\n",
       "      <td>Cute appartement with amazing location - La La...</td>\n",
       "      <td>102133711</td>\n",
       "      <td>Sami Preda'Sport</td>\n",
       "      <td>Centro</td>\n",
       "      <td>Palacio</td>\n",
       "      <td>40.41271</td>\n",
       "      <td>-3.70808</td>\n",
       "      <td>Entire home/apt</td>\n",
       "      <td>58</td>\n",
       "      <td>2</td>\n",
       "      <td>0</td>\n",
       "      <td>NaN</td>\n",
       "      <td>NaN</td>\n",
       "      <td>1</td>\n",
       "      <td>14</td>\n",
       "    </tr>\n",
       "    <tr>\n",
       "      <th>21435</th>\n",
       "      <td>36576880</td>\n",
       "      <td>Apart. 3 personas</td>\n",
       "      <td>260881286</td>\n",
       "      <td>Fatima</td>\n",
       "      <td>Ciudad Lineal</td>\n",
       "      <td>Quintana</td>\n",
       "      <td>40.43260</td>\n",
       "      <td>-3.65436</td>\n",
       "      <td>Private room</td>\n",
       "      <td>60</td>\n",
       "      <td>1</td>\n",
       "      <td>0</td>\n",
       "      <td>NaN</td>\n",
       "      <td>NaN</td>\n",
       "      <td>2</td>\n",
       "      <td>123</td>\n",
       "    </tr>\n",
       "    <tr>\n",
       "      <th>21436</th>\n",
       "      <td>36580017</td>\n",
       "      <td>Habitacion compartida para 2 huespedes</td>\n",
       "      <td>253689674</td>\n",
       "      <td>Esteban</td>\n",
       "      <td>Moncloa - Aravaca</td>\n",
       "      <td>Valdezarza</td>\n",
       "      <td>40.46404</td>\n",
       "      <td>-3.71936</td>\n",
       "      <td>Private room</td>\n",
       "      <td>14</td>\n",
       "      <td>1</td>\n",
       "      <td>0</td>\n",
       "      <td>NaN</td>\n",
       "      <td>NaN</td>\n",
       "      <td>7</td>\n",
       "      <td>365</td>\n",
       "    </tr>\n",
       "    <tr>\n",
       "      <th>21437</th>\n",
       "      <td>36580707</td>\n",
       "      <td>Habitación acogedora en Ventas</td>\n",
       "      <td>193183514</td>\n",
       "      <td>Maria Carolina</td>\n",
       "      <td>Ciudad Lineal</td>\n",
       "      <td>Ventas</td>\n",
       "      <td>40.42587</td>\n",
       "      <td>-3.65749</td>\n",
       "      <td>Private room</td>\n",
       "      <td>18</td>\n",
       "      <td>1</td>\n",
       "      <td>0</td>\n",
       "      <td>NaN</td>\n",
       "      <td>NaN</td>\n",
       "      <td>1</td>\n",
       "      <td>18</td>\n",
       "    </tr>\n",
       "    <tr>\n",
       "      <th>21438</th>\n",
       "      <td>36583995</td>\n",
       "      <td>Habitación individual en el centro de Madrid.</td>\n",
       "      <td>209747890</td>\n",
       "      <td>Rodrigo</td>\n",
       "      <td>Centro</td>\n",
       "      <td>Sol</td>\n",
       "      <td>40.41787</td>\n",
       "      <td>-3.70174</td>\n",
       "      <td>Private room</td>\n",
       "      <td>35</td>\n",
       "      <td>2</td>\n",
       "      <td>0</td>\n",
       "      <td>NaN</td>\n",
       "      <td>NaN</td>\n",
       "      <td>3</td>\n",
       "      <td>15</td>\n",
       "    </tr>\n",
       "  </tbody>\n",
       "</table>\n",
       "<p>21439 rows × 16 columns</p>\n",
       "</div>"
      ],
      "text/plain": [
       "             id                                               name    host_id  \\\n",
       "0          6369  Rooftop terrace room with ensuite bathroom, Airc.      13660   \n",
       "1         20185                            CENTRAL MADRID.UP TO 10      76357   \n",
       "2         21853                               Bright and airy room      83531   \n",
       "3         23148                 MODERN.AMAZING.COLOURFUL.APARTMENT      76357   \n",
       "4         24805                             Gran Via Studio Madrid     101471   \n",
       "...         ...                                                ...        ...   \n",
       "21434  36576704  Cute appartement with amazing location - La La...  102133711   \n",
       "21435  36576880                                  Apart. 3 personas  260881286   \n",
       "21436  36580017             Habitacion compartida para 2 huespedes  253689674   \n",
       "21437  36580707                     Habitación acogedora en Ventas  193183514   \n",
       "21438  36583995      Habitación individual en el centro de Madrid.  209747890   \n",
       "\n",
       "              host_name neighbourhood_group   neighbourhood  latitude  \\\n",
       "0                 Simon           Chamartín  Hispanoamérica  40.45628   \n",
       "1             Francisco              Centro     Embajadores  40.41043   \n",
       "2                 Abdel              Latina        Cármenes  40.40341   \n",
       "3             Francisco              Centro        Justicia  40.42174   \n",
       "4                Iraido              Centro     Universidad  40.42202   \n",
       "...                 ...                 ...             ...       ...   \n",
       "21434  Sami Preda'Sport              Centro         Palacio  40.41271   \n",
       "21435            Fatima       Ciudad Lineal        Quintana  40.43260   \n",
       "21436           Esteban   Moncloa - Aravaca      Valdezarza  40.46404   \n",
       "21437    Maria Carolina       Ciudad Lineal          Ventas  40.42587   \n",
       "21438           Rodrigo              Centro             Sol  40.41787   \n",
       "\n",
       "       longitude        room_type  price  minimum_nights  number_of_reviews  \\\n",
       "0       -3.67763     Private room     70               3                 64   \n",
       "1       -3.70156  Entire home/apt     82               1                  9   \n",
       "2       -3.74084     Private room     17               4                 33   \n",
       "3       -3.69945  Entire home/apt     76               1                 17   \n",
       "4       -3.70395  Entire home/apt     85               5                  2   \n",
       "...          ...              ...    ...             ...                ...   \n",
       "21434   -3.70808  Entire home/apt     58               2                  0   \n",
       "21435   -3.65436     Private room     60               1                  0   \n",
       "21436   -3.71936     Private room     14               1                  0   \n",
       "21437   -3.65749     Private room     18               1                  0   \n",
       "21438   -3.70174     Private room     35               2                  0   \n",
       "\n",
       "      last_review  reviews_per_month  calculated_host_listings_count  \\\n",
       "0      2019-05-14               0.56                               1   \n",
       "1      2011-09-13               0.08                               8   \n",
       "2      2018-07-15               0.57                               2   \n",
       "3      2012-01-19               0.15                               8   \n",
       "4      2017-07-03               0.04                               1   \n",
       "...           ...                ...                             ...   \n",
       "21434         NaN                NaN                               1   \n",
       "21435         NaN                NaN                               2   \n",
       "21436         NaN                NaN                               7   \n",
       "21437         NaN                NaN                               1   \n",
       "21438         NaN                NaN                               3   \n",
       "\n",
       "       availability_365  \n",
       "0                    86  \n",
       "1                   364  \n",
       "2                     0  \n",
       "3                   365  \n",
       "4                   358  \n",
       "...                 ...  \n",
       "21434                14  \n",
       "21435               123  \n",
       "21436               365  \n",
       "21437                18  \n",
       "21438                15  \n",
       "\n",
       "[21439 rows x 16 columns]"
      ]
     },
     "execution_count": 3,
     "metadata": {},
     "output_type": "execute_result"
    }
   ],
   "source": [
    "df"
   ]
  },
  {
   "cell_type": "code",
   "execution_count": 3,
   "metadata": {},
   "outputs": [],
   "source": [
    "\n",
    "# getting the mean availability based on neighbourhood\n",
    "def privav (row):\n",
    "    if row['room_type']== 'Shared room':\n",
    "        shared = df[df['room_type']== 'Shared room']\n",
    "        cham = shared[shared['neighbourhood_group']== 'Chamartín']\n",
    "        if row['neighbourhood_group']== 'Chamartín':\n",
    "            return cham['availability_365'].mean()\n",
    "        Latina = shared[shared['neighbourhood_group']== 'Latina']\n",
    "        if row['neighbourhood_group']== 'Latina':\n",
    "            return Latina['availability_365'].mean()\n",
    "        Arganzuela = shared[shared['neighbourhood_group']== 'Arganzuela']\n",
    "        if row['neighbourhood_group']== 'Arganzuela':\n",
    "            return Arganzuela['availability_365'].mean()\n",
    "        Centro= shared[shared['neighbourhood_group']== 'Centro']\n",
    "        if row['neighbourhood_group']== 'Centro':\n",
    "            return Centro['availability_365'].mean()\n",
    "        Fuen= shared[shared['neighbourhood_group']== 'Fuencarral - El Pardo']\n",
    "        if row['neighbourhood_group']== 'Fuencarral - El Pardo':\n",
    "            return Fuen['availability_365'].mean()\n",
    "        Puente= shared[shared['neighbourhood_group']== 'Puente de Vallecas']\n",
    "        if row['neighbourhood_group']== 'Puente de Vallecas':\n",
    "            return Puente['availability_365'].mean()\n",
    "        CiudadLineal= shared[shared['neighbourhood_group']== 'Ciudad Lineal']\n",
    "        if row['neighbourhood_group']== 'Ciudad Lineal':\n",
    "            return CiudadLineal['availability_365'].mean()\n",
    "        Villaverde= shared[shared['neighbourhood_group']== 'Villaverde']\n",
    "        if row['neighbourhood_group']== 'Villaverde':\n",
    "            return Villaverde['availability_365'].mean()\n",
    "        Hortaleza= shared[shared['neighbourhood_group']== 'Hortaleza']\n",
    "        if row['neighbourhood_group']== 'Hortaleza':\n",
    "            return Hortaleza['availability_365'].mean()\n",
    "        MoncloaAravaca= shared[shared['neighbourhood_group']== 'Moncloa - Aravaca']\n",
    "        if row['neighbourhood_group']== 'Moncloa - Aravaca':\n",
    "            return MoncloaAravaca['availability_365'].mean()\n",
    "        Chamberí= shared[shared['neighbourhood_group']== 'Chamberí']\n",
    "        if row['neighbourhood_group']== 'Chamberí':\n",
    "            return Chamberí['availability_365'].mean()\n",
    "        Carabanchel= shared[shared['neighbourhood_group']== 'Carabanchel']\n",
    "        if row['neighbourhood_group']== 'Carabanchel':\n",
    "            return Carabanchel['availability_365'].mean()\n",
    "        Tetuán= shared[shared['neighbourhood_group']== 'Tetuán']\n",
    "        if row['neighbourhood_group']== 'Tetuán':\n",
    "            return Tetuán['availability_365'].mean()\n",
    "        Retiro= shared[shared['neighbourhood_group']== 'Retiro']\n",
    "        if row['neighbourhood_group']== 'Retiro':\n",
    "            return Retiro['availability_365'].mean()\n",
    "        Salamanca= shared[shared['neighbourhood_group']== 'Salamanca']\n",
    "        if row['neighbourhood_group']== 'Salamanca':\n",
    "            return Salamanca['availability_365'].mean()\n",
    "        SanBlasCanillejas= shared[shared['neighbourhood_group']== 'San Blas - Canillejas']\n",
    "        if row['neighbourhood_group']== 'San Blas - Canillejas':\n",
    "            return SanBlasCanillejas['availability_365'].mean()\n",
    "        VilladeVallecas= shared[shared['neighbourhood_group']== 'Villa de Vallecas']\n",
    "        if row['neighbourhood_group']== 'Villa de Vallecas':\n",
    "            return VilladeVallecas['availability_365'].mean()\n",
    "        Usera= shared[shared['neighbourhood_group']== 'Usera']\n",
    "        if row['neighbourhood_group']== 'Usera':\n",
    "            return Usera['availability_365'].mean()\n",
    "        Barajas= shared[shared['neighbourhood_group']== 'Barajas']\n",
    "        if row['neighbourhood_group']== 'Barajas':\n",
    "            return Barajas['availability_365'].mean()\n",
    "        Moratalaz= shared[shared['neighbourhood_group']== 'Moratalaz']\n",
    "        if row['neighbourhood_group']== 'Moratalaz':\n",
    "            return Moratalaz['availability_365'].mean()\n",
    "        Vicálvaro= shared[shared['neighbourhood_group']== 'Vicálvaro']\n",
    "        if row['neighbourhood_group']== 'Vicálvaro':\n",
    "            return Vicálvaro['availability_365'].mean()\n",
    "    elif row['room_type']== 'Private room':\n",
    "        priv = df[df['room_type']== 'Private room']\n",
    "        cham = priv[priv['neighbourhood_group']== 'Chamartín']\n",
    "        if row['neighbourhood_group']== 'Chamartín':\n",
    "            return cham['availability_365'].mean()\n",
    "        Latina = priv[priv['neighbourhood_group']== 'Latina']\n",
    "        if row['neighbourhood_group']== 'Latina':\n",
    "            return Latina['availability_365'].mean()\n",
    "        Arganzuela = priv[priv['neighbourhood_group']== 'Arganzuela']\n",
    "        if row['neighbourhood_group']== 'Arganzuela':\n",
    "            return Arganzuela['availability_365'].mean()\n",
    "        Centro= priv[priv['neighbourhood_group']== 'Centro']\n",
    "        if row['neighbourhood_group']== 'Centro':\n",
    "            return Centro['availability_365'].mean()\n",
    "        Fuen= priv[priv['neighbourhood_group']== 'Fuencarral - El Pardo']\n",
    "        if row['neighbourhood_group']== 'Fuencarral - El Pardo':\n",
    "            return Fuen['availability_365'].mean()\n",
    "        Puente= priv[priv['neighbourhood_group']== 'Puente de Vallecas']\n",
    "        if row['neighbourhood_group']== 'Puente de Vallecas':\n",
    "            return Puente['availability_365'].mean()\n",
    "        CiudadLineal= priv[priv['neighbourhood_group']== 'Ciudad Lineal']\n",
    "        if row['neighbourhood_group']== 'Ciudad Lineal':\n",
    "            return CiudadLineal['availability_365'].mean()\n",
    "        Villaverde= priv[priv['neighbourhood_group']== 'Villaverde']\n",
    "        if row['neighbourhood_group']== 'Villaverde':\n",
    "            return Villaverde['availability_365'].mean()\n",
    "        Hortaleza= priv[priv['neighbourhood_group']== 'Hortaleza']\n",
    "        if row['neighbourhood_group']== 'Hortaleza':\n",
    "            return Hortaleza['availability_365'].mean()\n",
    "        MoncloaAravaca= priv[priv['neighbourhood_group']== 'Moncloa - Aravaca']\n",
    "        if row['neighbourhood_group']== 'Moncloa - Aravaca':\n",
    "            return MoncloaAravaca['availability_365'].mean()\n",
    "        Chamberí= priv[priv['neighbourhood_group']== 'Chamberí']\n",
    "        if row['neighbourhood_group']== 'Chamberí':\n",
    "            return Chamberí['availability_365'].mean()\n",
    "        Carabanchel= priv[priv['neighbourhood_group']== 'Carabanchel']\n",
    "        if row['neighbourhood_group']== 'Carabanchel':\n",
    "            return Carabanchel['availability_365'].mean()\n",
    "        Tetuán= priv[priv['neighbourhood_group']== 'Tetuán']\n",
    "        if row['neighbourhood_group']== 'Tetuán':\n",
    "            return Tetuán['availability_365'].mean()\n",
    "        Retiro= priv[priv['neighbourhood_group']== 'Retiro']\n",
    "        if row['neighbourhood_group']== 'Retiro':\n",
    "            return Retiro['availability_365'].mean()\n",
    "        Salamanca= priv[priv['neighbourhood_group']== 'Salamanca']\n",
    "        if row['neighbourhood_group']== 'Salamanca':\n",
    "            return Salamanca['availability_365'].mean()\n",
    "        SanBlasCanillejas= priv[priv['neighbourhood_group']== 'San Blas - Canillejas']\n",
    "        if row['neighbourhood_group']== 'San Blas - Canillejas':\n",
    "            return SanBlasCanillejas['availability_365'].mean()\n",
    "        VilladeVallecas= priv[priv['neighbourhood_group']== 'Villa de Vallecas']\n",
    "        if row['neighbourhood_group']== 'Villa de Vallecas':\n",
    "            return VilladeVallecas['availability_365'].mean()\n",
    "        Usera= priv[priv['neighbourhood_group']== 'Usera']\n",
    "        if row['neighbourhood_group']== 'Usera':\n",
    "            return Usera['availability_365'].mean()\n",
    "        Barajas= priv[priv['neighbourhood_group']== 'Barajas']\n",
    "        if row['neighbourhood_group']== 'Barajas':\n",
    "            return Barajas['availability_365'].mean()\n",
    "        Moratalaz= priv[priv['neighbourhood_group']== 'Moratalaz']\n",
    "        if row['neighbourhood_group']== 'Moratalaz':\n",
    "            return Moratalaz['availability_365'].mean()\n",
    "        Vicálvaro= priv[priv['neighbourhood_group']== 'Vicálvaro']\n",
    "        if row['neighbourhood_group']== 'Vicálvaro':\n",
    "            return Vicálvaro['availability_365'].mean()\n",
    "    elif row['room_type']== 'Entire home/apt':\n",
    "        entire = df[df['room_type']== 'Entire home/apt']\n",
    "        cham = entire[entire['neighbourhood_group']== 'Chamartín']\n",
    "        if row['neighbourhood_group']== 'Chamartín':\n",
    "            return cham['availability_365'].mean()\n",
    "        Latina = entire[entire['neighbourhood_group']== 'Latina']\n",
    "        if row['neighbourhood_group']== 'Latina':\n",
    "            return Latina['availability_365'].mean()\n",
    "        Arganzuela = entire[entire['neighbourhood_group']== 'Arganzuela']\n",
    "        if row['neighbourhood_group']== 'Arganzuela':\n",
    "            return Arganzuela['availability_365'].mean()\n",
    "        Centro= entire[entire['neighbourhood_group']== 'Centro']\n",
    "        if row['neighbourhood_group']== 'Centro':\n",
    "            return Centro['availability_365'].mean()\n",
    "        Fuen= entire[entire['neighbourhood_group']== 'Fuencarral - El Pardo']\n",
    "        if row['neighbourhood_group']== 'Fuencarral - El Pardo':\n",
    "            return Fuen['availability_365'].mean()\n",
    "        Puente= entire[entire['neighbourhood_group']== 'Puente de Vallecas']\n",
    "        if row['neighbourhood_group']== 'Puente de Vallecas':\n",
    "            return Puente['availability_365'].mean()\n",
    "        CiudadLineal= entire[entire['neighbourhood_group']== 'Ciudad Lineal']\n",
    "        if row['neighbourhood_group']== 'Ciudad Lineal':\n",
    "            return CiudadLineal['availability_365'].mean()\n",
    "        Villaverde= entire[entire['neighbourhood_group']== 'Villaverde']\n",
    "        if row['neighbourhood_group']== 'Villaverde':\n",
    "            return Villaverde['availability_365'].mean()\n",
    "        Hortaleza= entire[entire['neighbourhood_group']== 'Hortaleza']\n",
    "        if row['neighbourhood_group']== 'Hortaleza':\n",
    "            return Hortaleza['availability_365'].mean()\n",
    "        MoncloaAravaca= entire[entire['neighbourhood_group']== 'Moncloa - Aravaca']\n",
    "        if row['neighbourhood_group']== 'Moncloa - Aravaca':\n",
    "            return MoncloaAravaca['availability_365'].mean()\n",
    "        Chamberí= entire[entire['neighbourhood_group']== 'Chamberí']\n",
    "        if row['neighbourhood_group']== 'Chamberí':\n",
    "            return Chamberí['availability_365'].mean()\n",
    "        Carabanchel= entire[entire['neighbourhood_group']== 'Carabanchel']\n",
    "        if row['neighbourhood_group']== 'Carabanchel':\n",
    "            return Carabanchel['availability_365'].mean()\n",
    "        Tetuán= entire[entire['neighbourhood_group']== 'Tetuán']\n",
    "        if row['neighbourhood_group']== 'Tetuán':\n",
    "            return Tetuán['availability_365'].mean()\n",
    "        Retiro= entire[entire['neighbourhood_group']== 'Retiro']\n",
    "        if row['neighbourhood_group']== 'Retiro':\n",
    "            return Retiro['availability_365'].mean()\n",
    "        Salamanca= entire[entire['neighbourhood_group']== 'Salamanca']\n",
    "        if row['neighbourhood_group']== 'Salamanca':\n",
    "            return Salamanca['availability_365'].mean()\n",
    "        SanBlasCanillejas= entire[entire['neighbourhood_group']== 'San Blas - Canillejas']\n",
    "        if row['neighbourhood_group']== 'San Blas - Canillejas':\n",
    "            return SanBlasCanillejas['availability_365'].mean()\n",
    "        VilladeVallecas= entire[entire['neighbourhood_group']== 'Villa de Vallecas']\n",
    "        if row['neighbourhood_group']== 'Villa de Vallecas':\n",
    "            return VilladeVallecas['availability_365'].mean()\n",
    "        Usera= entire[entire['neighbourhood_group']== 'Usera']\n",
    "        if row['neighbourhood_group']== 'Usera':\n",
    "            return Usera['availability_365'].mean()\n",
    "        Barajas= entire[entire['neighbourhood_group']== 'Barajas']\n",
    "        if row['neighbourhood_group']== 'Barajas':\n",
    "            return Barajas['availability_365'].mean()\n",
    "        Moratalaz= entire[entire['neighbourhood_group']== 'Moratalaz']\n",
    "        if row['neighbourhood_group']== 'Moratalaz':\n",
    "            return Moratalaz['availability_365'].mean()\n",
    "        Vicálvaro= entire[entire['neighbourhood_group']== 'Vicálvaro']\n",
    "        if row['neighbourhood_group']== 'Vicálvaro':\n",
    "            return Vicálvaro['availability_365'].mean()\n",
    "\n",
    "\n",
    "def entireprice(row):\n",
    "    if row['room_type']== 'Private room':\n",
    "        priv = df[df['room_type']== 'Private room']\n",
    "        cham = priv[priv['neighbourhood_group']== 'Chamartín']\n",
    "        if row['neighbourhood_group']== 'Chamartín':\n",
    "            return cham['price'].mean()\n",
    "        Latina = priv[priv['neighbourhood_group']== 'Latina']\n",
    "        if row['neighbourhood_group']== 'Latina':\n",
    "            return Latina['price'].mean()\n",
    "        Arganzuela = priv[priv['neighbourhood_group']== 'Arganzuela']\n",
    "        if row['neighbourhood_group']== 'Arganzuela':\n",
    "            return Arganzuela['price'].mean()\n",
    "        Centro= priv[priv['neighbourhood_group']== 'Centro']\n",
    "        if row['neighbourhood_group']== 'Centro':\n",
    "            return Centro['price'].mean()\n",
    "        Fuen= priv[priv['neighbourhood_group']== 'Fuencarral - El Pardo']\n",
    "        if row['neighbourhood_group']== 'Fuencarral - El Pardo':\n",
    "            return Fuen['price'].mean()\n",
    "        PuentedeVallecas= priv[priv['neighbourhood_group']== 'Puente de Vallecas']\n",
    "        if row['neighbourhood_group']== 'Puente de Vallecas':\n",
    "            return PuentedeVallecas['price'].mean()\n",
    "        CiudadLineal= priv[priv['neighbourhood_group']== 'Ciudad Lineal']\n",
    "        if row['neighbourhood_group']== 'Ciudad Lineal':\n",
    "            return CiudadLineal['price'].mean()\n",
    "        Villaverde= priv[priv['neighbourhood_group']== 'Villaverde']\n",
    "        if row['neighbourhood_group']== 'Villaverde':\n",
    "            return Villaverde['price'].mean()\n",
    "        Hortaleza= priv[priv['neighbourhood_group']== 'Hortaleza']\n",
    "        if row['neighbourhood_group']== 'Hortaleza':\n",
    "            return Hortaleza['price'].mean()\n",
    "        MoncloaAravaca= priv[priv['neighbourhood_group']== 'Moncloa - Aravaca']\n",
    "        if row['neighbourhood_group']== 'Moncloa - Aravaca':\n",
    "            return MoncloaAravaca['price'].mean()\n",
    "        Chamberí= priv[priv['neighbourhood_group']== 'Chamberí']\n",
    "        if row['neighbourhood_group']== 'Chamberí':\n",
    "            return Chamberí['price'].mean()\n",
    "        Carabanchel= priv[priv['neighbourhood_group']== 'Carabanchel']\n",
    "        if row['neighbourhood_group']== 'Carabanchel':\n",
    "            return Carabanchel['price'].mean()\n",
    "        Tetuán= priv[priv['neighbourhood_group']== 'Tetuán']\n",
    "        if row['neighbourhood_group']== 'Tetuán':\n",
    "            return Tetuán['price'].mean()\n",
    "        Retiro= priv[priv['neighbourhood_group']== 'Retiro']\n",
    "        if row['neighbourhood_group']== 'Retiro':\n",
    "            return Retiro['price'].mean()\n",
    "        Salamanca= priv[priv['neighbourhood_group']== 'Salamanca']\n",
    "        if row['neighbourhood_group']== 'Salamanca':\n",
    "            return Salamanca['price'].mean()\n",
    "        SanBlasCanillejas= priv[priv['neighbourhood_group']== 'San Blas - Canillejas']\n",
    "        if row['neighbourhood_group']== 'San Blas - Canillejas':\n",
    "            return SanBlasCanillejas['price'].mean()\n",
    "        VilladeVallecas= priv[priv['neighbourhood_group']== 'Villa de Vallecas']\n",
    "        if row['neighbourhood_group']== 'Villa de Vallecas':\n",
    "            return VilladeVallecas['price'].mean()\n",
    "        Usera= priv[priv['neighbourhood_group']== 'Usera']\n",
    "        if row['neighbourhood_group']== 'Usera':\n",
    "            return Usera['price'].mean()\n",
    "        Barajas= priv[priv['neighbourhood_group']== 'Barajas']\n",
    "        if row['neighbourhood_group']== 'Barajas':\n",
    "            return Barajas['price'].mean()\n",
    "        Moratalaz= priv[priv['neighbourhood_group']== 'Moratalaz']\n",
    "        if row['neighbourhood_group']== 'Moratalaz':\n",
    "            return Moratalaz['price'].mean()\n",
    "        Vicálvaro= priv[priv['neighbourhood_group']== 'Vicálvaro']\n",
    "        if row['neighbourhood_group']== 'Vicálvaro':\n",
    "            return Vicálvaro['price'].mean()\n",
    "    elif row['room_type']== 'Entire home/apt':\n",
    "        entire = df[df['room_type']== 'Entire home/apt']\n",
    "        cham = entire[entire['neighbourhood_group']== 'Chamartín']\n",
    "        if row['neighbourhood_group']== 'Chamartín':\n",
    "            return cham['price'].mean()\n",
    "        Latina = entire[entire['neighbourhood_group']== 'Latina']\n",
    "        if row['neighbourhood_group']== 'Latina':\n",
    "            return Latina['price'].mean()\n",
    "        Arganzuela = entire[entire['neighbourhood_group']== 'Arganzuela']\n",
    "        if row['neighbourhood_group']== 'Arganzuela':\n",
    "            return Arganzuela['price'].mean()\n",
    "        Centro= entire[entire['neighbourhood_group']== 'Centro']\n",
    "        if row['neighbourhood_group']== 'Centro':\n",
    "            return Centro['price'].mean()\n",
    "        Fuen= entire[entire['neighbourhood_group']== 'Fuencarral - El Pardo']\n",
    "        if row['neighbourhood_group']== 'Fuencarral - El Pardo':\n",
    "            return Fuen['price'].mean()\n",
    "        PuentedeVallecas= entire[entire['neighbourhood_group']== 'Puente de Vallecas']\n",
    "        if row['neighbourhood_group']== 'Puente de Vallecas':\n",
    "            return PuentedeVallecas['price'].mean()\n",
    "        CiudadLineal= entire[entire['neighbourhood_group']== 'Ciudad Lineal']\n",
    "        if row['neighbourhood_group']== 'Ciudad Lineal':\n",
    "            return CiudadLineal['price'].mean()\n",
    "        Villaverde= entire[entire['neighbourhood_group']== 'Villaverde']\n",
    "        if row['neighbourhood_group']== 'Villaverde':\n",
    "            return Villaverde['price'].mean()\n",
    "        Hortaleza= entire[entire['neighbourhood_group']== 'Hortaleza']\n",
    "        if row['neighbourhood_group']== 'Hortaleza':\n",
    "            return Hortaleza['price'].mean()\n",
    "        MoncloaAravaca= entire[entire['neighbourhood_group']== 'Moncloa - Aravaca']\n",
    "        if row['neighbourhood_group']== 'Moncloa - Aravaca':\n",
    "            return MoncloaAravaca['price'].mean()\n",
    "        Chamberí= entire[entire['neighbourhood_group']== 'Chamberí']\n",
    "        if row['neighbourhood_group']== 'Chamberí':\n",
    "            return Chamberí['price'].mean()\n",
    "        Carabanchel= entire[entire['neighbourhood_group']== 'Carabanchel']\n",
    "        if row['neighbourhood_group']== 'Carabanchel':\n",
    "            return Carabanchel['price'].mean()\n",
    "        Tetuán= entire[entire['neighbourhood_group']== 'Tetuán']\n",
    "        if row['neighbourhood_group']== 'Tetuán':\n",
    "            return Tetuán['price'].mean()\n",
    "        Retiro= entire[entire['neighbourhood_group']== 'Retiro']\n",
    "        if row['neighbourhood_group']== 'Retiro':\n",
    "            return Retiro['price'].mean()\n",
    "        Salamanca= entire[entire['neighbourhood_group']== 'Salamanca']\n",
    "        if row['neighbourhood_group']== 'Salamanca':\n",
    "            return Salamanca['price'].mean()\n",
    "        SanBlasCanillejas= entire[entire['neighbourhood_group']== 'San Blas - Canillejas']\n",
    "        if row['neighbourhood_group']== 'San Blas - Canillejas':\n",
    "            return SanBlasCanillejas['price'].mean()\n",
    "        VilladeVallecas= entire[entire['neighbourhood_group']== 'Villa de Vallecas']\n",
    "        if row['neighbourhood_group']== 'Villa de Vallecas':\n",
    "            return VilladeVallecas['price'].mean()\n",
    "        Usera= entire[entire['neighbourhood_group']== 'Usera']\n",
    "        if row['neighbourhood_group']== 'Usera':\n",
    "            return Usera['price'].mean()\n",
    "        Barajas= entire[entire['neighbourhood_group']== 'Barajas']\n",
    "        if row['neighbourhood_group']== 'Barajas':\n",
    "            return Barajas['price'].mean()\n",
    "        Moratalaz= entire[entire['neighbourhood_group']== 'Moratalaz']\n",
    "        if row['neighbourhood_group']== 'Moratalaz':\n",
    "            return Moratalaz['price'].mean()\n",
    "        Vicálvaro= entire[entire['neighbourhood_group']== 'Vicálvaro']\n",
    "        if row['neighbourhood_group']== 'Vicálvaro':\n",
    "            return Vicálvaro['price'].mean()\n",
    "    elif row['room_type']== 'Shared room':\n",
    "        shared = df[df['room_type']== 'Shared room']\n",
    "        cham = shared[shared['neighbourhood_group']== 'Chamartín']\n",
    "        if row['neighbourhood_group']== 'Chamartín':\n",
    "            return cham['price'].mean()\n",
    "        Latina = shared[shared['neighbourhood_group']== 'Latina']\n",
    "        if row['neighbourhood_group']== 'Latina':\n",
    "            return Latina['price'].mean()\n",
    "        Arganzuela = shared[shared['neighbourhood_group']== 'Arganzuela']\n",
    "        if row['neighbourhood_group']== 'Arganzuela':\n",
    "            return Arganzuela['price'].mean()\n",
    "        Centro= shared[shared['neighbourhood_group']== 'Centro']\n",
    "        if row['neighbourhood_group']== 'Centro':\n",
    "            return Centro['price'].mean()\n",
    "        Fuen= shared[shared['neighbourhood_group']== 'Fuencarral - El Pardo']\n",
    "        if row['neighbourhood_group']== 'Fuencarral - El Pardo':\n",
    "            return Fuen['price'].mean()\n",
    "        PuentedeVallecas= shared[shared['neighbourhood_group']== 'Puente de Vallecas']\n",
    "        if row['neighbourhood_group']== 'Puente de Vallecas':\n",
    "            return PuentedeVallecas['price'].mean()\n",
    "        CiudadLineal= shared[shared['neighbourhood_group']== 'Ciudad Lineal']\n",
    "        if row['neighbourhood_group']== 'Ciudad Lineal':\n",
    "            return CiudadLineal['price'].mean()\n",
    "        Villaverde= shared[shared['neighbourhood_group']== 'Villaverde']\n",
    "        if row['neighbourhood_group']== 'Villaverde':\n",
    "            return Villaverde['price'].mean()\n",
    "        Hortaleza= shared[shared['neighbourhood_group']== 'Hortaleza']\n",
    "        if row['neighbourhood_group']== 'Hortaleza':\n",
    "            return Hortaleza['price'].mean()\n",
    "        MoncloaAravaca= shared[shared['neighbourhood_group']== 'Moncloa - Aravaca']\n",
    "        if row['neighbourhood_group']== 'Moncloa - Aravaca':\n",
    "            return MoncloaAravaca['price'].mean()\n",
    "        Chamberí= shared[shared['neighbourhood_group']== 'Chamberí']\n",
    "        if row['neighbourhood_group']== 'Chamberí':\n",
    "            return Chamberí['price'].mean()\n",
    "        Carabanchel= shared[shared['neighbourhood_group']== 'Carabanchel']\n",
    "        if row['neighbourhood_group']== 'Carabanchel':\n",
    "            return Carabanchel['price'].mean()\n",
    "        Tetuán= shared[shared['neighbourhood_group']== 'Tetuán']\n",
    "        if row['neighbourhood_group']== 'Tetuán':\n",
    "            return Tetuán['price'].mean()\n",
    "        Retiro= shared[shared['neighbourhood_group']== 'Retiro']\n",
    "        if row['neighbourhood_group']== 'Retiro':\n",
    "            return Retiro['price'].mean()\n",
    "        Salamanca= shared[shared['neighbourhood_group']== 'Salamanca']\n",
    "        if row['neighbourhood_group']== 'Salamanca':\n",
    "            return Salamanca['price'].mean()\n",
    "        SanBlasCanillejas= shared[shared['neighbourhood_group']== 'San Blas - Canillejas']\n",
    "        if row['neighbourhood_group']== 'San Blas - Canillejas':\n",
    "            return SanBlasCanillejas['price'].mean()\n",
    "        VilladeVallecas= shared[shared['neighbourhood_group']== 'Villa de Vallecas']\n",
    "        if row['neighbourhood_group']== 'Villa de Vallecas':\n",
    "            return VilladeVallecas['price'].mean()\n",
    "        Usera= shared[shared['neighbourhood_group']== 'Usera']\n",
    "        if row['neighbourhood_group']== 'Usera':\n",
    "            return Usera['price'].mean()\n",
    "        Barajas= shared[shared['neighbourhood_group']== 'Barajas']\n",
    "        if row['neighbourhood_group']== 'Barajas':\n",
    "            return Barajas['price'].mean()\n",
    "        Moratalaz= shared[shared['neighbourhood_group']== 'Moratalaz']\n",
    "        if row['neighbourhood_group']== 'Moratalaz':\n",
    "            return Moratalaz['price'].mean()\n",
    "        Vicálvaro= shared[shared['neighbourhood_group']== 'Vicálvaro']\n",
    "        if row['neighbourhood_group']== 'Vicálvaro':\n",
    "            return Vicálvaro['price'].mean()\n",
    "\n",
    "\n",
    "\n"
   ]
  },
  {
   "cell_type": "code",
   "execution_count": 4,
   "metadata": {},
   "outputs": [],
   "source": [
    "df['mean_av'] = df.apply (lambda row: privav(row), axis=1)\n",
    "df['mean_price'] = df.apply (lambda row: entireprice(row), axis=1)\n",
    "\n"
   ]
  },
  {
   "cell_type": "code",
   "execution_count": 4,
   "metadata": {},
   "outputs": [],
   "source": [
    "df = df.dropna(axis = 0, how ='any')\n"
   ]
  },
  {
   "cell_type": "code",
   "execution_count": 5,
   "metadata": {},
   "outputs": [],
   "source": [
    "neighgl = ['Centro','','Salamanca']\n"
   ]
  },
  {
   "cell_type": "code",
   "execution_count": 6,
   "metadata": {},
   "outputs": [
    {
     "name": "stderr",
     "output_type": "stream",
     "text": [
      "E:\\anaconda\\lib\\site-packages\\ipykernel_launcher.py:1: SettingWithCopyWarning: \n",
      "A value is trying to be set on a copy of a slice from a DataFrame\n",
      "\n",
      "See the caveats in the documentation: https://pandas.pydata.org/pandas-docs/stable/user_guide/indexing.html#returning-a-view-versus-a-copy\n",
      "  \"\"\"Entry point for launching an IPython kernel.\n",
      "E:\\anaconda\\lib\\site-packages\\pandas\\core\\generic.py:8767: SettingWithCopyWarning: \n",
      "A value is trying to be set on a copy of a slice from a DataFrame\n",
      "\n",
      "See the caveats in the documentation: https://pandas.pydata.org/pandas-docs/stable/user_guide/indexing.html#returning-a-view-versus-a-copy\n",
      "  self._update_inplace(new_data)\n"
     ]
    }
   ],
   "source": [
    "df['neighbourhood_group'][~df['neighbourhood_group'].isin(neighgl)] = 0\n"
   ]
  },
  {
   "cell_type": "code",
   "execution_count": 7,
   "metadata": {},
   "outputs": [
    {
     "data": {
      "text/html": [
       "<div>\n",
       "<style scoped>\n",
       "    .dataframe tbody tr th:only-of-type {\n",
       "        vertical-align: middle;\n",
       "    }\n",
       "\n",
       "    .dataframe tbody tr th {\n",
       "        vertical-align: top;\n",
       "    }\n",
       "\n",
       "    .dataframe thead th {\n",
       "        text-align: right;\n",
       "    }\n",
       "</style>\n",
       "<table border=\"1\" class=\"dataframe\">\n",
       "  <thead>\n",
       "    <tr style=\"text-align: right;\">\n",
       "      <th></th>\n",
       "      <th>id</th>\n",
       "      <th>name</th>\n",
       "      <th>host_id</th>\n",
       "      <th>host_name</th>\n",
       "      <th>neighbourhood_group</th>\n",
       "      <th>neighbourhood</th>\n",
       "      <th>latitude</th>\n",
       "      <th>longitude</th>\n",
       "      <th>room_type</th>\n",
       "      <th>price</th>\n",
       "      <th>minimum_nights</th>\n",
       "      <th>number_of_reviews</th>\n",
       "      <th>last_review</th>\n",
       "      <th>reviews_per_month</th>\n",
       "      <th>calculated_host_listings_count</th>\n",
       "      <th>availability_365</th>\n",
       "    </tr>\n",
       "  </thead>\n",
       "  <tbody>\n",
       "    <tr>\n",
       "      <th>0</th>\n",
       "      <td>6369</td>\n",
       "      <td>Rooftop terrace room with ensuite bathroom, Airc.</td>\n",
       "      <td>13660</td>\n",
       "      <td>Simon</td>\n",
       "      <td>0</td>\n",
       "      <td>Hispanoamérica</td>\n",
       "      <td>40.45628</td>\n",
       "      <td>-3.67763</td>\n",
       "      <td>Private room</td>\n",
       "      <td>70</td>\n",
       "      <td>3</td>\n",
       "      <td>64</td>\n",
       "      <td>2019-05-14</td>\n",
       "      <td>0.56</td>\n",
       "      <td>1</td>\n",
       "      <td>86</td>\n",
       "    </tr>\n",
       "    <tr>\n",
       "      <th>1</th>\n",
       "      <td>20185</td>\n",
       "      <td>CENTRAL MADRID.UP TO 10</td>\n",
       "      <td>76357</td>\n",
       "      <td>Francisco</td>\n",
       "      <td>Centro</td>\n",
       "      <td>Embajadores</td>\n",
       "      <td>40.41043</td>\n",
       "      <td>-3.70156</td>\n",
       "      <td>Entire home/apt</td>\n",
       "      <td>82</td>\n",
       "      <td>1</td>\n",
       "      <td>9</td>\n",
       "      <td>2011-09-13</td>\n",
       "      <td>0.08</td>\n",
       "      <td>8</td>\n",
       "      <td>364</td>\n",
       "    </tr>\n",
       "    <tr>\n",
       "      <th>2</th>\n",
       "      <td>21853</td>\n",
       "      <td>Bright and airy room</td>\n",
       "      <td>83531</td>\n",
       "      <td>Abdel</td>\n",
       "      <td>0</td>\n",
       "      <td>Cármenes</td>\n",
       "      <td>40.40341</td>\n",
       "      <td>-3.74084</td>\n",
       "      <td>Private room</td>\n",
       "      <td>17</td>\n",
       "      <td>4</td>\n",
       "      <td>33</td>\n",
       "      <td>2018-07-15</td>\n",
       "      <td>0.57</td>\n",
       "      <td>2</td>\n",
       "      <td>0</td>\n",
       "    </tr>\n",
       "    <tr>\n",
       "      <th>3</th>\n",
       "      <td>23148</td>\n",
       "      <td>MODERN.AMAZING.COLOURFUL.APARTMENT</td>\n",
       "      <td>76357</td>\n",
       "      <td>Francisco</td>\n",
       "      <td>Centro</td>\n",
       "      <td>Justicia</td>\n",
       "      <td>40.42174</td>\n",
       "      <td>-3.69945</td>\n",
       "      <td>Entire home/apt</td>\n",
       "      <td>76</td>\n",
       "      <td>1</td>\n",
       "      <td>17</td>\n",
       "      <td>2012-01-19</td>\n",
       "      <td>0.15</td>\n",
       "      <td>8</td>\n",
       "      <td>365</td>\n",
       "    </tr>\n",
       "    <tr>\n",
       "      <th>4</th>\n",
       "      <td>24805</td>\n",
       "      <td>Gran Via Studio Madrid</td>\n",
       "      <td>101471</td>\n",
       "      <td>Iraido</td>\n",
       "      <td>Centro</td>\n",
       "      <td>Universidad</td>\n",
       "      <td>40.42202</td>\n",
       "      <td>-3.70395</td>\n",
       "      <td>Entire home/apt</td>\n",
       "      <td>85</td>\n",
       "      <td>5</td>\n",
       "      <td>2</td>\n",
       "      <td>2017-07-03</td>\n",
       "      <td>0.04</td>\n",
       "      <td>1</td>\n",
       "      <td>358</td>\n",
       "    </tr>\n",
       "    <tr>\n",
       "      <th>...</th>\n",
       "      <td>...</td>\n",
       "      <td>...</td>\n",
       "      <td>...</td>\n",
       "      <td>...</td>\n",
       "      <td>...</td>\n",
       "      <td>...</td>\n",
       "      <td>...</td>\n",
       "      <td>...</td>\n",
       "      <td>...</td>\n",
       "      <td>...</td>\n",
       "      <td>...</td>\n",
       "      <td>...</td>\n",
       "      <td>...</td>\n",
       "      <td>...</td>\n",
       "      <td>...</td>\n",
       "      <td>...</td>\n",
       "    </tr>\n",
       "    <tr>\n",
       "      <th>21205</th>\n",
       "      <td>36387487</td>\n",
       "      <td>No alquilar, ya esta ocupado entero</td>\n",
       "      <td>273312759</td>\n",
       "      <td>BlaXt</td>\n",
       "      <td>0</td>\n",
       "      <td>Abrantes</td>\n",
       "      <td>40.38565</td>\n",
       "      <td>-3.72555</td>\n",
       "      <td>Entire home/apt</td>\n",
       "      <td>150</td>\n",
       "      <td>1</td>\n",
       "      <td>1</td>\n",
       "      <td>2019-07-06</td>\n",
       "      <td>1.00</td>\n",
       "      <td>2</td>\n",
       "      <td>341</td>\n",
       "    </tr>\n",
       "    <tr>\n",
       "      <th>21255</th>\n",
       "      <td>36443205</td>\n",
       "      <td>Buhardilla luminosa en Delicias</td>\n",
       "      <td>222558378</td>\n",
       "      <td>Molly Jean</td>\n",
       "      <td>0</td>\n",
       "      <td>Delicias</td>\n",
       "      <td>40.39578</td>\n",
       "      <td>-3.69554</td>\n",
       "      <td>Private room</td>\n",
       "      <td>17</td>\n",
       "      <td>1</td>\n",
       "      <td>1</td>\n",
       "      <td>2019-07-08</td>\n",
       "      <td>1.00</td>\n",
       "      <td>1</td>\n",
       "      <td>223</td>\n",
       "    </tr>\n",
       "    <tr>\n",
       "      <th>21336</th>\n",
       "      <td>36509659</td>\n",
       "      <td>Habitación doble a pocos minutos del centro.</td>\n",
       "      <td>274488505</td>\n",
       "      <td>Maria Del Mad</td>\n",
       "      <td>0</td>\n",
       "      <td>Gaztambide</td>\n",
       "      <td>40.43472</td>\n",
       "      <td>-3.71336</td>\n",
       "      <td>Private room</td>\n",
       "      <td>20</td>\n",
       "      <td>1</td>\n",
       "      <td>1</td>\n",
       "      <td>2019-07-08</td>\n",
       "      <td>1.00</td>\n",
       "      <td>2</td>\n",
       "      <td>14</td>\n",
       "    </tr>\n",
       "    <tr>\n",
       "      <th>21347</th>\n",
       "      <td>36514268</td>\n",
       "      <td>Atocha nearby</td>\n",
       "      <td>274475050</td>\n",
       "      <td>Jhon Geiler</td>\n",
       "      <td>0</td>\n",
       "      <td>Numancia</td>\n",
       "      <td>40.40163</td>\n",
       "      <td>-3.66361</td>\n",
       "      <td>Private room</td>\n",
       "      <td>16</td>\n",
       "      <td>1</td>\n",
       "      <td>1</td>\n",
       "      <td>2019-07-09</td>\n",
       "      <td>1.00</td>\n",
       "      <td>1</td>\n",
       "      <td>178</td>\n",
       "    </tr>\n",
       "    <tr>\n",
       "      <th>21417</th>\n",
       "      <td>36557541</td>\n",
       "      <td>Habitación en precioso duplex con terraza</td>\n",
       "      <td>191092067</td>\n",
       "      <td>Laura</td>\n",
       "      <td>0</td>\n",
       "      <td>Comillas</td>\n",
       "      <td>40.39620</td>\n",
       "      <td>-3.71196</td>\n",
       "      <td>Private room</td>\n",
       "      <td>18</td>\n",
       "      <td>1</td>\n",
       "      <td>1</td>\n",
       "      <td>2019-07-10</td>\n",
       "      <td>1.00</td>\n",
       "      <td>1</td>\n",
       "      <td>80</td>\n",
       "    </tr>\n",
       "  </tbody>\n",
       "</table>\n",
       "<p>16199 rows × 16 columns</p>\n",
       "</div>"
      ],
      "text/plain": [
       "             id                                               name    host_id  \\\n",
       "0          6369  Rooftop terrace room with ensuite bathroom, Airc.      13660   \n",
       "1         20185                            CENTRAL MADRID.UP TO 10      76357   \n",
       "2         21853                               Bright and airy room      83531   \n",
       "3         23148                 MODERN.AMAZING.COLOURFUL.APARTMENT      76357   \n",
       "4         24805                             Gran Via Studio Madrid     101471   \n",
       "...         ...                                                ...        ...   \n",
       "21205  36387487                No alquilar, ya esta ocupado entero  273312759   \n",
       "21255  36443205                    Buhardilla luminosa en Delicias  222558378   \n",
       "21336  36509659       Habitación doble a pocos minutos del centro.  274488505   \n",
       "21347  36514268                                      Atocha nearby  274475050   \n",
       "21417  36557541          Habitación en precioso duplex con terraza  191092067   \n",
       "\n",
       "           host_name neighbourhood_group   neighbourhood  latitude  longitude  \\\n",
       "0              Simon                   0  Hispanoamérica  40.45628   -3.67763   \n",
       "1          Francisco              Centro     Embajadores  40.41043   -3.70156   \n",
       "2              Abdel                   0        Cármenes  40.40341   -3.74084   \n",
       "3          Francisco              Centro        Justicia  40.42174   -3.69945   \n",
       "4             Iraido              Centro     Universidad  40.42202   -3.70395   \n",
       "...              ...                 ...             ...       ...        ...   \n",
       "21205          BlaXt                   0        Abrantes  40.38565   -3.72555   \n",
       "21255     Molly Jean                   0        Delicias  40.39578   -3.69554   \n",
       "21336  Maria Del Mad                   0      Gaztambide  40.43472   -3.71336   \n",
       "21347    Jhon Geiler                   0        Numancia  40.40163   -3.66361   \n",
       "21417          Laura                   0        Comillas  40.39620   -3.71196   \n",
       "\n",
       "             room_type  price  minimum_nights  number_of_reviews last_review  \\\n",
       "0         Private room     70               3                 64  2019-05-14   \n",
       "1      Entire home/apt     82               1                  9  2011-09-13   \n",
       "2         Private room     17               4                 33  2018-07-15   \n",
       "3      Entire home/apt     76               1                 17  2012-01-19   \n",
       "4      Entire home/apt     85               5                  2  2017-07-03   \n",
       "...                ...    ...             ...                ...         ...   \n",
       "21205  Entire home/apt    150               1                  1  2019-07-06   \n",
       "21255     Private room     17               1                  1  2019-07-08   \n",
       "21336     Private room     20               1                  1  2019-07-08   \n",
       "21347     Private room     16               1                  1  2019-07-09   \n",
       "21417     Private room     18               1                  1  2019-07-10   \n",
       "\n",
       "       reviews_per_month  calculated_host_listings_count  availability_365  \n",
       "0                   0.56                               1                86  \n",
       "1                   0.08                               8               364  \n",
       "2                   0.57                               2                 0  \n",
       "3                   0.15                               8               365  \n",
       "4                   0.04                               1               358  \n",
       "...                  ...                             ...               ...  \n",
       "21205               1.00                               2               341  \n",
       "21255               1.00                               1               223  \n",
       "21336               1.00                               2                14  \n",
       "21347               1.00                               1               178  \n",
       "21417               1.00                               1                80  \n",
       "\n",
       "[16199 rows x 16 columns]"
      ]
     },
     "execution_count": 7,
     "metadata": {},
     "output_type": "execute_result"
    }
   ],
   "source": [
    "df"
   ]
  },
  {
   "cell_type": "markdown",
   "metadata": {},
   "source": [
    "# Data transf"
   ]
  },
  {
   "cell_type": "code",
   "execution_count": 8,
   "metadata": {},
   "outputs": [],
   "source": [
    "df= df.drop(['id','host_name','last_review','calculated_host_listings_count','number_of_reviews'], axis=1)"
   ]
  },
  {
   "cell_type": "code",
   "execution_count": null,
   "metadata": {},
   "outputs": [],
   "source": []
  },
  {
   "cell_type": "code",
   "execution_count": 9,
   "metadata": {},
   "outputs": [],
   "source": [
    "df['Count_neighbourhood'] = df['neighbourhood'].map(df['neighbourhood'].value_counts())"
   ]
  },
  {
   "cell_type": "code",
   "execution_count": 10,
   "metadata": {},
   "outputs": [],
   "source": [
    "df['Count_host_id'] = df['host_id'].map(df['host_id'].value_counts())"
   ]
  },
  {
   "cell_type": "code",
   "execution_count": 11,
   "metadata": {},
   "outputs": [],
   "source": [
    "df[\"name\"]= df[\"name\"].str.len()"
   ]
  },
  {
   "cell_type": "code",
   "execution_count": null,
   "metadata": {},
   "outputs": [],
   "source": []
  },
  {
   "cell_type": "code",
   "execution_count": 12,
   "metadata": {},
   "outputs": [],
   "source": [
    "df[\"room_type\"] = pd.factorize(df[\"room_type\"])[0]"
   ]
  },
  {
   "cell_type": "code",
   "execution_count": 13,
   "metadata": {},
   "outputs": [],
   "source": [
    "ngd = pd.get_dummies(df['neighbourhood_group'], prefix='ng', prefix_sep='_', drop_first=True)\n",
    "\n",
    "df=pd.concat([df,ngd],axis=1)\n"
   ]
  },
  {
   "cell_type": "code",
   "execution_count": 14,
   "metadata": {},
   "outputs": [],
   "source": [
    "df=df.drop(['neighbourhood'],axis=1)\n"
   ]
  },
  {
   "cell_type": "code",
   "execution_count": 15,
   "metadata": {},
   "outputs": [],
   "source": [
    "df = df.drop(['neighbourhood_group'], axis=1)"
   ]
  },
  {
   "cell_type": "code",
   "execution_count": 43,
   "metadata": {
    "scrolled": true
   },
   "outputs": [
    {
     "data": {
      "text/html": [
       "<div>\n",
       "<style scoped>\n",
       "    .dataframe tbody tr th:only-of-type {\n",
       "        vertical-align: middle;\n",
       "    }\n",
       "\n",
       "    .dataframe tbody tr th {\n",
       "        vertical-align: top;\n",
       "    }\n",
       "\n",
       "    .dataframe thead th {\n",
       "        text-align: right;\n",
       "    }\n",
       "</style>\n",
       "<table border=\"1\" class=\"dataframe\">\n",
       "  <thead>\n",
       "    <tr style=\"text-align: right;\">\n",
       "      <th></th>\n",
       "      <th>name</th>\n",
       "      <th>host_id</th>\n",
       "      <th>latitude</th>\n",
       "      <th>longitude</th>\n",
       "      <th>room_type</th>\n",
       "      <th>price</th>\n",
       "      <th>minimum_nights</th>\n",
       "      <th>reviews_per_month</th>\n",
       "      <th>availability_365</th>\n",
       "      <th>Count_neighbourhood</th>\n",
       "      <th>Count_host_id</th>\n",
       "    </tr>\n",
       "  </thead>\n",
       "  <tbody>\n",
       "    <tr>\n",
       "      <th>0</th>\n",
       "      <td>49</td>\n",
       "      <td>13660</td>\n",
       "      <td>40.45628</td>\n",
       "      <td>-3.67763</td>\n",
       "      <td>0</td>\n",
       "      <td>70</td>\n",
       "      <td>3</td>\n",
       "      <td>0.56</td>\n",
       "      <td>86</td>\n",
       "      <td>76</td>\n",
       "      <td>1</td>\n",
       "    </tr>\n",
       "    <tr>\n",
       "      <th>1</th>\n",
       "      <td>23</td>\n",
       "      <td>76357</td>\n",
       "      <td>40.41043</td>\n",
       "      <td>-3.70156</td>\n",
       "      <td>1</td>\n",
       "      <td>82</td>\n",
       "      <td>1</td>\n",
       "      <td>0.08</td>\n",
       "      <td>364</td>\n",
       "      <td>2341</td>\n",
       "      <td>6</td>\n",
       "    </tr>\n",
       "    <tr>\n",
       "      <th>2</th>\n",
       "      <td>20</td>\n",
       "      <td>83531</td>\n",
       "      <td>40.40341</td>\n",
       "      <td>-3.74084</td>\n",
       "      <td>0</td>\n",
       "      <td>17</td>\n",
       "      <td>4</td>\n",
       "      <td>0.57</td>\n",
       "      <td>0</td>\n",
       "      <td>44</td>\n",
       "      <td>2</td>\n",
       "    </tr>\n",
       "    <tr>\n",
       "      <th>3</th>\n",
       "      <td>34</td>\n",
       "      <td>76357</td>\n",
       "      <td>40.42174</td>\n",
       "      <td>-3.69945</td>\n",
       "      <td>1</td>\n",
       "      <td>76</td>\n",
       "      <td>1</td>\n",
       "      <td>0.15</td>\n",
       "      <td>365</td>\n",
       "      <td>1013</td>\n",
       "      <td>6</td>\n",
       "    </tr>\n",
       "    <tr>\n",
       "      <th>4</th>\n",
       "      <td>22</td>\n",
       "      <td>101471</td>\n",
       "      <td>40.42202</td>\n",
       "      <td>-3.70395</td>\n",
       "      <td>1</td>\n",
       "      <td>85</td>\n",
       "      <td>5</td>\n",
       "      <td>0.04</td>\n",
       "      <td>358</td>\n",
       "      <td>1687</td>\n",
       "      <td>1</td>\n",
       "    </tr>\n",
       "  </tbody>\n",
       "</table>\n",
       "</div>"
      ],
      "text/plain": [
       "   name  host_id  latitude  longitude  room_type  price  minimum_nights  \\\n",
       "0    49    13660  40.45628   -3.67763          0     70               3   \n",
       "1    23    76357  40.41043   -3.70156          1     82               1   \n",
       "2    20    83531  40.40341   -3.74084          0     17               4   \n",
       "3    34    76357  40.42174   -3.69945          1     76               1   \n",
       "4    22   101471  40.42202   -3.70395          1     85               5   \n",
       "\n",
       "   reviews_per_month  availability_365  Count_neighbourhood  Count_host_id  \n",
       "0               0.56                86                   76              1  \n",
       "1               0.08               364                 2341              6  \n",
       "2               0.57                 0                   44              2  \n",
       "3               0.15               365                 1013              6  \n",
       "4               0.04               358                 1687              1  "
      ]
     },
     "execution_count": 43,
     "metadata": {},
     "output_type": "execute_result"
    }
   ],
   "source": [
    "df.head()"
   ]
  },
  {
   "cell_type": "markdown",
   "metadata": {},
   "source": [
    "## Modeling"
   ]
  },
  {
   "cell_type": "code",
   "execution_count": 16,
   "metadata": {},
   "outputs": [],
   "source": [
    "y = df['price']\n",
    "X = df.drop('price',axis=1)"
   ]
  },
  {
   "cell_type": "code",
   "execution_count": 25,
   "metadata": {},
   "outputs": [],
   "source": [
    "from sklearn import preprocessing\n",
    "std_scale = preprocessing.StandardScaler().fit(X)\n",
    "X = std_scale.transform(X)"
   ]
  },
  {
   "cell_type": "code",
   "execution_count": 17,
   "metadata": {},
   "outputs": [
    {
     "name": "stdout",
     "output_type": "stream",
     "text": [
      "(11339, 12)\n",
      "(4860, 12)\n"
     ]
    }
   ],
   "source": [
    "from sklearn.model_selection import train_test_split\n",
    "X_train, X_test, y_train, y_test = train_test_split(X, y, test_size=0.30, random_state=42)\n",
    "print(X_train.shape)\n",
    "print(X_test.shape)"
   ]
  },
  {
   "cell_type": "code",
   "execution_count": 18,
   "metadata": {},
   "outputs": [],
   "source": [
    "def mean_absolute_percentage_error(y_true,y_pred):\n",
    "    y_true = np.array(y_true)\n",
    "    y_pred = np.array(y_pred)\n",
    "    return (np.sum(np.abs(y_true-y_pred)/y_true)/len(y_true))*100"
   ]
  },
  {
   "cell_type": "code",
   "execution_count": 19,
   "metadata": {},
   "outputs": [],
   "source": [
    "def r2(y_,y):\n",
    "    sst = np.sum((y-y.mean())**2)\n",
    "    ssr = np.sum((y_-y)**2)\n",
    "    r2 = 1-(ssr/sst)\n",
    "    return(r2)"
   ]
  },
  {
   "cell_type": "code",
   "execution_count": 24,
   "metadata": {},
   "outputs": [
    {
     "name": "stdout",
     "output_type": "stream",
     "text": [
      "ng_Centro       0.593117\n",
      "ng_Salamanca    0.406883\n",
      "dtype: float64\n"
     ]
    }
   ],
   "source": [
    "from sklearn.ensemble import ExtraTreesRegressor\n",
    "import matplotlib.pyplot as plt\n",
    "\n",
    "\n",
    "model = ExtraTreesRegressor()\n",
    "model.fit(ngd,y)\n",
    "\n",
    "feat_importances = pd.Series(model.feature_importances_, index=ngd.columns)\n",
    "print(feat_importances.nlargest(10))\n",
    "\n"
   ]
  },
  {
   "cell_type": "markdown",
   "metadata": {},
   "source": [
    "## Linear Regression"
   ]
  },
  {
   "cell_type": "code",
   "execution_count": 25,
   "metadata": {},
   "outputs": [],
   "source": [
    "from sklearn.linear_model import LinearRegression\n",
    "\n",
    "clf = LinearRegression()\n",
    "clf.fit(X_train,y_train)\n",
    "pred = clf.predict(X_test)"
   ]
  },
  {
   "cell_type": "code",
   "execution_count": 26,
   "metadata": {},
   "outputs": [
    {
     "data": {
      "text/plain": [
       "88.6222815066339"
      ]
     },
     "execution_count": 26,
     "metadata": {},
     "output_type": "execute_result"
    }
   ],
   "source": [
    "mean_absolute_percentage_error(y_test, pred)"
   ]
  },
  {
   "cell_type": "code",
   "execution_count": 27,
   "metadata": {},
   "outputs": [
    {
     "data": {
      "text/plain": [
       "0.016610321454264554"
      ]
     },
     "execution_count": 27,
     "metadata": {},
     "output_type": "execute_result"
    }
   ],
   "source": [
    "r2(pred,y_test)"
   ]
  },
  {
   "cell_type": "markdown",
   "metadata": {},
   "source": [
    "## SVM 'rbf'"
   ]
  },
  {
   "cell_type": "code",
   "execution_count": 189,
   "metadata": {},
   "outputs": [],
   "source": [
    "from sklearn import svm\n",
    "\n",
    "clf = svm.SVR(kernel = 'rbf')\n",
    "clf.fit(X_train, y_train)\n",
    "pred = clf.predict(X_test)"
   ]
  },
  {
   "cell_type": "code",
   "execution_count": 190,
   "metadata": {},
   "outputs": [
    {
     "data": {
      "text/plain": [
       "37.438254179669606"
      ]
     },
     "execution_count": 190,
     "metadata": {},
     "output_type": "execute_result"
    }
   ],
   "source": [
    "mean_absolute_percentage_error(y_test, pred)"
   ]
  },
  {
   "cell_type": "code",
   "execution_count": 191,
   "metadata": {},
   "outputs": [
    {
     "data": {
      "text/plain": [
       "-0.0009756500936315415"
      ]
     },
     "execution_count": 191,
     "metadata": {},
     "output_type": "execute_result"
    }
   ],
   "source": [
    "r2(pred,y_test)"
   ]
  },
  {
   "cell_type": "markdown",
   "metadata": {},
   "source": [
    "## SVM 'Poly'"
   ]
  },
  {
   "cell_type": "code",
   "execution_count": 28,
   "metadata": {},
   "outputs": [],
   "source": [
    "from sklearn import svm\n",
    "\n",
    "clf = svm.SVR(kernel = 'poly')\n",
    "clf.fit(X_train, y_train)\n",
    "pred = clf.predict(X_test)"
   ]
  },
  {
   "cell_type": "code",
   "execution_count": 29,
   "metadata": {},
   "outputs": [
    {
     "data": {
      "text/plain": [
       "43.23016819828607"
      ]
     },
     "execution_count": 29,
     "metadata": {},
     "output_type": "execute_result"
    }
   ],
   "source": [
    "mean_absolute_percentage_error(y_test, pred)"
   ]
  },
  {
   "cell_type": "code",
   "execution_count": 30,
   "metadata": {},
   "outputs": [
    {
     "data": {
      "text/plain": [
       "-0.0043382015575144095"
      ]
     },
     "execution_count": 30,
     "metadata": {},
     "output_type": "execute_result"
    }
   ],
   "source": [
    "r2(pred,y_test)"
   ]
  },
  {
   "cell_type": "markdown",
   "metadata": {},
   "source": [
    "## SVM 'linear'"
   ]
  },
  {
   "cell_type": "code",
   "execution_count": 31,
   "metadata": {},
   "outputs": [
    {
     "ename": "KeyboardInterrupt",
     "evalue": "",
     "output_type": "error",
     "traceback": [
      "\u001b[1;31m---------------------------------------------------------------------------\u001b[0m",
      "\u001b[1;31mKeyboardInterrupt\u001b[0m                         Traceback (most recent call last)",
      "\u001b[1;32m<ipython-input-31-ff8c68f967ce>\u001b[0m in \u001b[0;36m<module>\u001b[1;34m\u001b[0m\n\u001b[0;32m      2\u001b[0m \u001b[1;33m\u001b[0m\u001b[0m\n\u001b[0;32m      3\u001b[0m \u001b[0mclf\u001b[0m \u001b[1;33m=\u001b[0m \u001b[0msvm\u001b[0m\u001b[1;33m.\u001b[0m\u001b[0mSVR\u001b[0m\u001b[1;33m(\u001b[0m\u001b[0mkernel\u001b[0m \u001b[1;33m=\u001b[0m \u001b[1;34m'linear'\u001b[0m\u001b[1;33m)\u001b[0m\u001b[1;33m\u001b[0m\u001b[1;33m\u001b[0m\u001b[0m\n\u001b[1;32m----> 4\u001b[1;33m \u001b[0mclf\u001b[0m\u001b[1;33m.\u001b[0m\u001b[0mfit\u001b[0m\u001b[1;33m(\u001b[0m\u001b[0mX_train\u001b[0m\u001b[1;33m,\u001b[0m \u001b[0my_train\u001b[0m\u001b[1;33m)\u001b[0m\u001b[1;33m\u001b[0m\u001b[1;33m\u001b[0m\u001b[0m\n\u001b[0m\u001b[0;32m      5\u001b[0m \u001b[0mpred\u001b[0m \u001b[1;33m=\u001b[0m \u001b[0mclf\u001b[0m\u001b[1;33m.\u001b[0m\u001b[0mpredict\u001b[0m\u001b[1;33m(\u001b[0m\u001b[0mX_test\u001b[0m\u001b[1;33m)\u001b[0m\u001b[1;33m\u001b[0m\u001b[1;33m\u001b[0m\u001b[0m\n",
      "\u001b[1;32mE:\\anaconda\\lib\\site-packages\\sklearn\\svm\\_base.py\u001b[0m in \u001b[0;36mfit\u001b[1;34m(self, X, y, sample_weight)\u001b[0m\n\u001b[0;32m    197\u001b[0m \u001b[1;33m\u001b[0m\u001b[0m\n\u001b[0;32m    198\u001b[0m         \u001b[0mseed\u001b[0m \u001b[1;33m=\u001b[0m \u001b[0mrnd\u001b[0m\u001b[1;33m.\u001b[0m\u001b[0mrandint\u001b[0m\u001b[1;33m(\u001b[0m\u001b[0mnp\u001b[0m\u001b[1;33m.\u001b[0m\u001b[0miinfo\u001b[0m\u001b[1;33m(\u001b[0m\u001b[1;34m'i'\u001b[0m\u001b[1;33m)\u001b[0m\u001b[1;33m.\u001b[0m\u001b[0mmax\u001b[0m\u001b[1;33m)\u001b[0m\u001b[1;33m\u001b[0m\u001b[1;33m\u001b[0m\u001b[0m\n\u001b[1;32m--> 199\u001b[1;33m         \u001b[0mfit\u001b[0m\u001b[1;33m(\u001b[0m\u001b[0mX\u001b[0m\u001b[1;33m,\u001b[0m \u001b[0my\u001b[0m\u001b[1;33m,\u001b[0m \u001b[0msample_weight\u001b[0m\u001b[1;33m,\u001b[0m \u001b[0msolver_type\u001b[0m\u001b[1;33m,\u001b[0m \u001b[0mkernel\u001b[0m\u001b[1;33m,\u001b[0m \u001b[0mrandom_seed\u001b[0m\u001b[1;33m=\u001b[0m\u001b[0mseed\u001b[0m\u001b[1;33m)\u001b[0m\u001b[1;33m\u001b[0m\u001b[1;33m\u001b[0m\u001b[0m\n\u001b[0m\u001b[0;32m    200\u001b[0m         \u001b[1;31m# see comment on the other call to np.iinfo in this file\u001b[0m\u001b[1;33m\u001b[0m\u001b[1;33m\u001b[0m\u001b[1;33m\u001b[0m\u001b[0m\n\u001b[0;32m    201\u001b[0m \u001b[1;33m\u001b[0m\u001b[0m\n",
      "\u001b[1;32mE:\\anaconda\\lib\\site-packages\\sklearn\\svm\\_base.py\u001b[0m in \u001b[0;36m_dense_fit\u001b[1;34m(self, X, y, sample_weight, solver_type, kernel, random_seed)\u001b[0m\n\u001b[0;32m    256\u001b[0m                 \u001b[0mcache_size\u001b[0m\u001b[1;33m=\u001b[0m\u001b[0mself\u001b[0m\u001b[1;33m.\u001b[0m\u001b[0mcache_size\u001b[0m\u001b[1;33m,\u001b[0m \u001b[0mcoef0\u001b[0m\u001b[1;33m=\u001b[0m\u001b[0mself\u001b[0m\u001b[1;33m.\u001b[0m\u001b[0mcoef0\u001b[0m\u001b[1;33m,\u001b[0m\u001b[1;33m\u001b[0m\u001b[1;33m\u001b[0m\u001b[0m\n\u001b[0;32m    257\u001b[0m                 \u001b[0mgamma\u001b[0m\u001b[1;33m=\u001b[0m\u001b[0mself\u001b[0m\u001b[1;33m.\u001b[0m\u001b[0m_gamma\u001b[0m\u001b[1;33m,\u001b[0m \u001b[0mepsilon\u001b[0m\u001b[1;33m=\u001b[0m\u001b[0mself\u001b[0m\u001b[1;33m.\u001b[0m\u001b[0mepsilon\u001b[0m\u001b[1;33m,\u001b[0m\u001b[1;33m\u001b[0m\u001b[1;33m\u001b[0m\u001b[0m\n\u001b[1;32m--> 258\u001b[1;33m                 max_iter=self.max_iter, random_seed=random_seed)\n\u001b[0m\u001b[0;32m    259\u001b[0m \u001b[1;33m\u001b[0m\u001b[0m\n\u001b[0;32m    260\u001b[0m         \u001b[0mself\u001b[0m\u001b[1;33m.\u001b[0m\u001b[0m_warn_from_fit_status\u001b[0m\u001b[1;33m(\u001b[0m\u001b[1;33m)\u001b[0m\u001b[1;33m\u001b[0m\u001b[1;33m\u001b[0m\u001b[0m\n",
      "\u001b[1;31mKeyboardInterrupt\u001b[0m: "
     ]
    }
   ],
   "source": [
    "from sklearn import svm\n",
    "\n",
    "clf = svm.SVR(kernel = 'linear')\n",
    "clf.fit(X_train, y_train)\n",
    "pred = clf.predict(X_test)"
   ]
  },
  {
   "cell_type": "code",
   "execution_count": null,
   "metadata": {},
   "outputs": [],
   "source": [
    "mean_absolute_percentage_error(y_test, pred)"
   ]
  },
  {
   "cell_type": "code",
   "execution_count": null,
   "metadata": {},
   "outputs": [],
   "source": [
    "r2(pred,y_test)"
   ]
  },
  {
   "cell_type": "markdown",
   "metadata": {},
   "source": [
    "## Decision Tree Regression"
   ]
  },
  {
   "cell_type": "code",
   "execution_count": 28,
   "metadata": {},
   "outputs": [],
   "source": [
    "from sklearn import tree\n",
    "clf = tree.DecisionTreeRegressor()"
   ]
  },
  {
   "cell_type": "code",
   "execution_count": null,
   "metadata": {},
   "outputs": [],
   "source": [
    "\n",
    "from sklearn.model_selection import GridSearchCV\n",
    "\n",
    "#FIND ALL TREE PARAMETERS: https://scikit-learn.org/stable/modules/generated/sklearn.tree.DecisionTreeClassifier.html\n",
    "\n",
    "gsc = GridSearchCV(\n",
    "        estimator=clf,\n",
    "        param_grid={\n",
    "            'max_depth': [3,4,5,6,7,8,9,10,11,12],\n",
    "            'min_samples_split': [2,3,4,5,6,7,8,9,10],\n",
    "            'min_samples_leaf': [1,2,3,4,5,6,7,8,9,10]\n",
    "        },\n",
    "        cv=5, scoring='r2')\n",
    "\n",
    "gsc.fit(X_train, y_train)\n",
    "gsc.best_params_"
   ]
  },
  {
   "cell_type": "code",
   "execution_count": 29,
   "metadata": {},
   "outputs": [],
   "source": [
    "clf = tree.DecisionTreeRegressor(max_depth= 7, min_samples_leaf=4, min_samples_split=5)\n",
    "clf = clf.fit(X_train, y_train)\n",
    "pred = clf.predict(X_test)"
   ]
  },
  {
   "cell_type": "code",
   "execution_count": 31,
   "metadata": {},
   "outputs": [
    {
     "data": {
      "text/plain": [
       "0.41490435526574687"
      ]
     },
     "execution_count": 31,
     "metadata": {},
     "output_type": "execute_result"
    }
   ],
   "source": [
    "r2(pred,y_test)"
   ]
  },
  {
   "cell_type": "code",
   "execution_count": 32,
   "metadata": {},
   "outputs": [],
   "source": [
    "pred = clf.predict(X_train)"
   ]
  },
  {
   "cell_type": "code",
   "execution_count": 33,
   "metadata": {},
   "outputs": [
    {
     "data": {
      "text/plain": [
       "0.4568108596971794"
      ]
     },
     "execution_count": 33,
     "metadata": {},
     "output_type": "execute_result"
    }
   ],
   "source": [
    "r2(pred,y_train)"
   ]
  },
  {
   "cell_type": "markdown",
   "metadata": {},
   "source": [
    "## NN"
   ]
  },
  {
   "cell_type": "code",
   "execution_count": 143,
   "metadata": {},
   "outputs": [
    {
     "name": "stderr",
     "output_type": "stream",
     "text": [
      "E:\\anaconda\\lib\\site-packages\\sklearn\\neural_network\\_multilayer_perceptron.py:571: ConvergenceWarning: Stochastic Optimizer: Maximum iterations (200) reached and the optimization hasn't converged yet.\n",
      "  % self.max_iter, ConvergenceWarning)\n"
     ]
    }
   ],
   "source": [
    "from sklearn.neural_network import MLPRegressor\n",
    "\n",
    "NN = MLPRegressor()\n",
    "NN.fit(X_train, y_train)\n",
    "pred = NN.predict(X_test)"
   ]
  },
  {
   "cell_type": "code",
   "execution_count": 66,
   "metadata": {},
   "outputs": [
    {
     "data": {
      "text/plain": [
       "85.64338550218444"
      ]
     },
     "execution_count": 66,
     "metadata": {},
     "output_type": "execute_result"
    }
   ],
   "source": [
    "mean_absolute_percentage_error(y_test, pred)"
   ]
  },
  {
   "cell_type": "code",
   "execution_count": 67,
   "metadata": {},
   "outputs": [
    {
     "data": {
      "text/plain": [
       "0.04991668096199309"
      ]
     },
     "execution_count": 67,
     "metadata": {},
     "output_type": "execute_result"
    }
   ],
   "source": [
    "r2(pred,y_test)"
   ]
  },
  {
   "cell_type": "markdown",
   "metadata": {},
   "source": [
    "# XGB\n"
   ]
  },
  {
   "cell_type": "code",
   "execution_count": 20,
   "metadata": {},
   "outputs": [
    {
     "data": {
      "text/plain": [
       "0.6979279390732039"
      ]
     },
     "execution_count": 20,
     "metadata": {},
     "output_type": "execute_result"
    }
   ],
   "source": [
    "from xgboost import XGBRegressor\n",
    "from sklearn.model_selection import KFold\n",
    "clf = XGBRegressor(learning_rate =0.05,booster = 'gbtree' , num_parallel_tree =2, n_estimator =50,subsample=0.5,early_stopping_rounds =10)\n",
    "clf = clf.fit(X_train, y_train)\n",
    "pred = clf.predict(X_test)\n",
    "r2(pred,y_test)"
   ]
  },
  {
   "cell_type": "code",
   "execution_count": 70,
   "metadata": {},
   "outputs": [
    {
     "data": {
      "text/plain": [
       "0.7531548838062716"
      ]
     },
     "execution_count": 70,
     "metadata": {},
     "output_type": "execute_result"
    }
   ],
   "source": [
    "pred = clf.predict(X_train)\n",
    "r2(pred,y_train)"
   ]
  },
  {
   "cell_type": "code",
   "execution_count": 51,
   "metadata": {},
   "outputs": [
    {
     "data": {
      "text/plain": [
       "71.70365020588213"
      ]
     },
     "execution_count": 51,
     "metadata": {},
     "output_type": "execute_result"
    }
   ],
   "source": [
    "mean_absolute_percentage_error(y_test, pred)"
   ]
  },
  {
   "cell_type": "code",
   "execution_count": 48,
   "metadata": {},
   "outputs": [],
   "source": [
    "clf = XGBRegressor()"
   ]
  },
  {
   "cell_type": "code",
   "execution_count": 49,
   "metadata": {},
   "outputs": [
    {
     "data": {
      "text/plain": [
       "{'booster': 'gbtree',\n",
       " 'learning_rate': 0.05,\n",
       " 'n_estimators': 50,\n",
       " 'subsample': 0.5}"
      ]
     },
     "execution_count": 49,
     "metadata": {},
     "output_type": "execute_result"
    }
   ],
   "source": [
    "from sklearn.model_selection import GridSearchCV\n",
    "\n",
    "#FIND ALL TREE PARAMETERS: https://scikit-learn.org/stable/modules/generated/sklearn.tree.DecisionTreeClassifier.html\n",
    "\n",
    "gsc = GridSearchCV(\n",
    "        estimator=clf,\n",
    "        param_grid={\n",
    "            'n_estimators': [50,75,100],\n",
    "            'learning_rate': [0.01 ,0.05,0.1],\n",
    "            'subsample': [0.3,0.5],\n",
    "            \"booster\": [\"gbtree\",\"dart\"],\n",
    "\n",
    "        },\n",
    "        cv=5, scoring='r2')\n",
    "\n",
    "gsc.fit(X_train, y_train)\n",
    "gsc.best_params_"
   ]
  },
  {
   "cell_type": "code",
   "execution_count": 21,
   "metadata": {},
   "outputs": [
    {
     "data": {
      "text/plain": [
       "array([108.27093 ,  33.474712,  98.451454, ..., 192.32996 ,  59.93508 ,\n",
       "        82.82474 ], dtype=float32)"
      ]
     },
     "execution_count": 21,
     "metadata": {},
     "output_type": "execute_result"
    }
   ],
   "source": [
    "pred"
   ]
  }
 ],
 "metadata": {
  "kernelspec": {
   "display_name": "Python 3",
   "language": "python",
   "name": "python3"
  },
  "language_info": {
   "codemirror_mode": {
    "name": "ipython",
    "version": 3
   },
   "file_extension": ".py",
   "mimetype": "text/x-python",
   "name": "python",
   "nbconvert_exporter": "python",
   "pygments_lexer": "ipython3",
   "version": "3.7.6"
  }
 },
 "nbformat": 4,
 "nbformat_minor": 2
}
